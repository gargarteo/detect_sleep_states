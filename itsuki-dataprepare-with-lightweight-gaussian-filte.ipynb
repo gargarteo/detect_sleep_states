{
 "cells": [
  {
   "cell_type": "markdown",
   "id": "6b7b80ee",
   "metadata": {
    "papermill": {
     "duration": 0.004411,
     "end_time": "2023-11-12T05:59:31.913592",
     "exception": false,
     "start_time": "2023-11-12T05:59:31.909181",
     "status": "completed"
    },
    "tags": []
   },
   "source": [
    "# Detect Sleep States DataPrepare\n",
    "\n",
    "### his notebook is inspired by the following [werus23's](https://www.kaggle.com/werus23) amazing notebooks.\n",
    "### see also them.\n",
    "\n",
    "Finding Critical Points using RNNs\n",
    "\n",
    " - [Data Prep notebook](https://www.kaggle.com/code/werus23/sleep-critical-point-prepare-data)\n",
    " - [Training notebook](https://www.kaggle.com/werus23/sleep-critical-point-train)\n",
    " - [Inference Notebook](https://www.kaggle.com/code/werus23/sleep-critical-point-infer)\n",
    "\n",
    "Credits:\n",
    " - dataloader: https://www.kaggle.com/code/henriupton/efficient-loading-memory-usage-visualizations-cmi"
   ]
  },
  {
   "cell_type": "code",
   "execution_count": 1,
   "id": "e0b0e6eb",
   "metadata": {
    "execution": {
     "iopub.execute_input": "2023-11-12T05:59:31.923206Z",
     "iopub.status.busy": "2023-11-12T05:59:31.922571Z",
     "iopub.status.idle": "2023-11-12T05:59:38.881129Z",
     "shell.execute_reply": "2023-11-12T05:59:38.880136Z"
    },
    "papermill": {
     "duration": 6.965944,
     "end_time": "2023-11-12T05:59:38.883602",
     "exception": false,
     "start_time": "2023-11-12T05:59:31.917658",
     "status": "completed"
    },
    "tags": []
   },
   "outputs": [
    {
     "name": "stderr",
     "output_type": "stream",
     "text": [
      "/opt/conda/lib/python3.10/site-packages/scipy/__init__.py:146: UserWarning: A NumPy version >=1.16.5 and <1.23.0 is required for this version of SciPy (detected version 1.23.5\n",
      "  warnings.warn(f\"A NumPy version >={np_minversion} and <{np_maxversion}\"\n"
     ]
    }
   ],
   "source": [
    "import pandas as pd\n",
    "import numpy as np\n",
    "import gc\n",
    "import time\n",
    "import json\n",
    "from datetime import datetime\n",
    "import matplotlib.pyplot as plt\n",
    "import os\n",
    "import joblib\n",
    "import random\n",
    "import math\n",
    "from tqdm.auto import tqdm \n",
    "\n",
    "from scipy.interpolate import interp1d\n",
    "\n",
    "from math import pi, sqrt, exp\n",
    "import sklearn,sklearn.model_selection\n",
    "import torch\n",
    "from torch import nn,Tensor\n",
    "import torch.nn.functional as F\n",
    "from torch.utils.data import DataLoader, Dataset, SubsetRandomSampler\n",
    "from sklearn.metrics import average_precision_score\n",
    "from timm.scheduler import CosineLRScheduler\n",
    "plt.style.use(\"ggplot\")\n",
    "\n",
    "from pyarrow.parquet import ParquetFile\n",
    "import pyarrow as pa \n",
    "import ctypes"
   ]
  },
  {
   "cell_type": "code",
   "execution_count": 2,
   "id": "f530116c",
   "metadata": {
    "execution": {
     "iopub.execute_input": "2023-11-12T05:59:38.893129Z",
     "iopub.status.busy": "2023-11-12T05:59:38.892804Z",
     "iopub.status.idle": "2023-11-12T05:59:38.897661Z",
     "shell.execute_reply": "2023-11-12T05:59:38.896765Z"
    },
    "papermill": {
     "duration": 0.011731,
     "end_time": "2023-11-12T05:59:38.899557",
     "exception": false,
     "start_time": "2023-11-12T05:59:38.887826",
     "status": "completed"
    },
    "tags": []
   },
   "outputs": [],
   "source": [
    "class PATHS:\n",
    "    MAIN_DIR = \"/kaggle/input/child-mind-institute-detect-sleep-states/\"\n",
    "    # CSV FILES : \n",
    "    SUBMISSION = MAIN_DIR + \"sample_submission.csv\"\n",
    "    TRAIN_EVENTS = MAIN_DIR + \"train_events.csv\"\n",
    "    # PARQUET FILES:\n",
    "#     TRAIN_SERIES = MAIN_DIR + \"train_series.parquet\"\n",
    "    TRAIN_SERIES = \"/kaggle/input/zzzs-lightweight-training-dataset-target/Zzzs_train.parquet\"\n",
    "    TEST_SERIES = MAIN_DIR + \"test_series.parquet\""
   ]
  },
  {
   "cell_type": "code",
   "execution_count": 3,
   "id": "875ff4ce",
   "metadata": {
    "execution": {
     "iopub.execute_input": "2023-11-12T05:59:38.908626Z",
     "iopub.status.busy": "2023-11-12T05:59:38.908354Z",
     "iopub.status.idle": "2023-11-12T05:59:38.912670Z",
     "shell.execute_reply": "2023-11-12T05:59:38.911803Z"
    },
    "papermill": {
     "duration": 0.01101,
     "end_time": "2023-11-12T05:59:38.914566",
     "exception": false,
     "start_time": "2023-11-12T05:59:38.903556",
     "status": "completed"
    },
    "tags": []
   },
   "outputs": [],
   "source": [
    "out_dir = 'train_csvs'\n",
    "os.makedirs(out_dir, exist_ok=True)"
   ]
  },
  {
   "cell_type": "code",
   "execution_count": 4,
   "id": "fc066deb",
   "metadata": {
    "execution": {
     "iopub.execute_input": "2023-11-12T05:59:38.923500Z",
     "iopub.status.busy": "2023-11-12T05:59:38.923196Z",
     "iopub.status.idle": "2023-11-12T05:59:38.944378Z",
     "shell.execute_reply": "2023-11-12T05:59:38.943483Z"
    },
    "papermill": {
     "duration": 0.027912,
     "end_time": "2023-11-12T05:59:38.946463",
     "exception": false,
     "start_time": "2023-11-12T05:59:38.918551",
     "status": "completed"
    },
    "tags": []
   },
   "outputs": [],
   "source": [
    "class data_reader:\n",
    "    def __init__(self, demo_mode):\n",
    "        super().__init__()\n",
    "        # MAPPING FOR DATA LOADING :\n",
    "        self.names_mapping = {\n",
    "            \"submission\" : {\"path\" : PATHS.SUBMISSION, \"is_parquet\" : False, \"has_timestamp\" : False}, \n",
    "            \"train_events\" : {\"path\" : PATHS.TRAIN_EVENTS, \"is_parquet\" : False, \"has_timestamp\" : True},\n",
    "            \"train_series\" : {\"path\" : PATHS.TRAIN_SERIES, \"is_parquet\" : True, \"has_timestamp\" : True},\n",
    "            \"test_series\" : {\"path\" : PATHS.TEST_SERIES, \"is_parquet\" : True, \"has_timestamp\" : True}\n",
    "        }\n",
    "        self.valid_names = [\"submission\", \"train_events\", \"train_series\", \"test_series\"]\n",
    "        self.demo_mode = demo_mode\n",
    "    \n",
    "    def verify(self, data_name):\n",
    "        \"function for data name verification\"\n",
    "        if data_name not in self.valid_names:\n",
    "            print(\"PLEASE ENTER A VALID DATASET NAME, VALID NAMES ARE : \", valid_names)\n",
    "        return\n",
    "    \n",
    "    def cleaning(self, data):\n",
    "        \"cleaning function : drop na values\"\n",
    "        before_cleaning = len(data)\n",
    "        print(\"Number of missing timestamps : \", len(data[data[\"timestamp\"].isna()]))\n",
    "        data = data.dropna(subset=[\"timestamp\"])\n",
    "        after_cleaning = len(data)\n",
    "        print(\"Percentage of removed steps : {:.1f}%\".format(100 * (before_cleaning - after_cleaning) / before_cleaning) )\n",
    "#         print(data.isna().any())\n",
    "#         data = data.bfill()\n",
    "        return data\n",
    "    \n",
    "    @staticmethod\n",
    "    def reduce_memory_usage(data):\n",
    "        \"iterate through all the columns of a dataframe and modify the data type to reduce memory usage.\"\n",
    "        start_mem = data.memory_usage().sum() / 1024**2\n",
    "        print('Memory usage of dataframe is {:.2f} MB'.format(start_mem))\n",
    "        for col in data.columns:\n",
    "            col_type = data[col].dtype    \n",
    "            if col_type != object:\n",
    "                c_min = data[col].min()\n",
    "                c_max = data[col].max()\n",
    "                if str(col_type)[:3] == 'int':\n",
    "                    if c_min > np.iinfo(np.int8).min and c_max < np.iinfo(np.int8).max:\n",
    "                        data[col] = data[col].astype(np.int8)\n",
    "                    elif c_min > np.iinfo(np.int16).min and c_max < np.iinfo(np.int16).max:\n",
    "                        data[col] = data[col].astype(np.int16)\n",
    "                    elif c_min > np.iinfo(np.int32).min and c_max < np.iinfo(np.int32).max:\n",
    "                        data[col] = data[col].astype(np.int32)\n",
    "                    elif c_min > np.iinfo(np.int64).min and c_max < np.iinfo(np.int64).max:\n",
    "                        data[col] = data[col].astype(np.int64)  \n",
    "                else:\n",
    "                    if c_min > np.finfo(np.float16).min and c_max < np.finfo(np.float16).max:\n",
    "                        data[col] = data[col].astype(np.float16)\n",
    "                    elif c_min > np.finfo(np.float32).min and c_max < np.finfo(np.float32).max:\n",
    "                        data[col] = data[col].astype(np.float32)\n",
    "                    else:\n",
    "                        data[col] = data[col].astype(np.float64)\n",
    "            else:\n",
    "                data[col] = data[col].astype('category')\n",
    "\n",
    "        end_mem = data.memory_usage().sum() / 1024**2\n",
    "        print('Memory usage after optimization is: {:.2f} MB'.format(end_mem))\n",
    "        print('Decreased by {:.1f}%'.format(100 * (start_mem - end_mem) / start_mem))\n",
    "        return data\n",
    "    \n",
    "    def load_data(self, data_name):\n",
    "        \"function for data loading\"\n",
    "        self.verify(data_name)\n",
    "        data_props = self.names_mapping[data_name]\n",
    "        if data_props[\"is_parquet\"]:\n",
    "            if self.demo_mode:\n",
    "                pf = ParquetFile(data_props[\"path\"]) \n",
    "                demo_steps = next(pf.iter_batches(batch_size=20_000)) \n",
    "                data = pa.Table.from_batches([demo_steps]).to_pandas()\n",
    "            else:\n",
    "                data = pd.read_parquet(data_props[\"path\"])\n",
    "        else:\n",
    "            if self.demo_mode:\n",
    "                data = pd.read_csv(data_props[\"path\"], nsteps=20_000)\n",
    "            else:\n",
    "                data = pd.read_csv(data_props[\"path\"])\n",
    "                \n",
    "        gc.collect()\n",
    "        if data_props[\"has_timestamp\"]:\n",
    "            print('cleaning')\n",
    "            data = self.cleaning(data)\n",
    "            gc.collect()\n",
    "        #data = self.reduce_memory_usage(data)\n",
    "        return data"
   ]
  },
  {
   "cell_type": "code",
   "execution_count": 5,
   "id": "5bba4504",
   "metadata": {
    "execution": {
     "iopub.execute_input": "2023-11-12T05:59:38.955472Z",
     "iopub.status.busy": "2023-11-12T05:59:38.955173Z",
     "iopub.status.idle": "2023-11-12T05:59:49.831451Z",
     "shell.execute_reply": "2023-11-12T05:59:49.830417Z"
    },
    "papermill": {
     "duration": 10.882943,
     "end_time": "2023-11-12T05:59:49.833483",
     "exception": false,
     "start_time": "2023-11-12T05:59:38.950540",
     "status": "completed"
    },
    "tags": []
   },
   "outputs": [
    {
     "name": "stdout",
     "output_type": "stream",
     "text": [
      "cleaning\n",
      "Number of missing timestamps :  0\n",
      "Percentage of removed steps : 0.0%\n",
      "cleaning\n",
      "Number of missing timestamps :  4923\n",
      "Percentage of removed steps : 33.9%\n"
     ]
    }
   ],
   "source": [
    "reader = data_reader(demo_mode=False)\n",
    "series = reader.load_data(data_name=\"train_series\")\n",
    "events = reader.load_data(data_name=\"train_events\")"
   ]
  },
  {
   "cell_type": "code",
   "execution_count": 6,
   "id": "fbc9cc1d",
   "metadata": {
    "execution": {
     "iopub.execute_input": "2023-11-12T05:59:49.843096Z",
     "iopub.status.busy": "2023-11-12T05:59:49.842814Z",
     "iopub.status.idle": "2023-11-12T05:59:49.848273Z",
     "shell.execute_reply": "2023-11-12T05:59:49.847294Z"
    },
    "papermill": {
     "duration": 0.012476,
     "end_time": "2023-11-12T05:59:49.850263",
     "exception": false,
     "start_time": "2023-11-12T05:59:49.837787",
     "status": "completed"
    },
    "tags": []
   },
   "outputs": [],
   "source": [
    "SIGMA = 720 # 12 * 60\n",
    "def gauss(n=SIGMA,sigma=SIGMA*0.15):\n",
    "    # guassian distribution function\n",
    "    r = range(-int(n/2),int(n/2)+1)\n",
    "    return [1 / (sigma * sqrt(2*pi)) * exp(-float(x)**2/(2*sigma**2)) for x in r]"
   ]
  },
  {
   "cell_type": "code",
   "execution_count": 7,
   "id": "b7279b01",
   "metadata": {
    "execution": {
     "iopub.execute_input": "2023-11-12T05:59:49.859740Z",
     "iopub.status.busy": "2023-11-12T05:59:49.859187Z",
     "iopub.status.idle": "2023-11-12T05:59:49.864931Z",
     "shell.execute_reply": "2023-11-12T05:59:49.864103Z"
    },
    "papermill": {
     "duration": 0.012427,
     "end_time": "2023-11-12T05:59:49.866757",
     "exception": false,
     "start_time": "2023-11-12T05:59:49.854330",
     "status": "completed"
    },
    "tags": []
   },
   "outputs": [],
   "source": [
    "offset = 10\n",
    "sigma = 10\n",
    "\n",
    "def gaussian_kernel(length, sigma):\n",
    "    x = np.ogrid[-length : length + 1]\n",
    "    h = np.exp(-(x**2) / (2 * sigma * sigma))  # type: ignore\n",
    "    h[h < np.finfo(h.dtype).eps * h.max()] = 0\n",
    "    return h\n",
    "\n",
    "\n",
    "def gaussian_label(label, offset, sigma):\n",
    "    label = np.convolve(label, gaussian_kernel(offset, sigma), mode=\"same\")\n",
    "\n",
    "    return label"
   ]
  },
  {
   "cell_type": "code",
   "execution_count": 8,
   "id": "80f88a25",
   "metadata": {
    "execution": {
     "iopub.execute_input": "2023-11-12T05:59:49.876450Z",
     "iopub.status.busy": "2023-11-12T05:59:49.875999Z",
     "iopub.status.idle": "2023-11-12T06:07:36.509543Z",
     "shell.execute_reply": "2023-11-12T06:07:36.508523Z"
    },
    "papermill": {
     "duration": 466.641065,
     "end_time": "2023-11-12T06:07:36.512189",
     "exception": false,
     "start_time": "2023-11-12T05:59:49.871124",
     "status": "completed"
    },
    "tags": []
   },
   "outputs": [
    {
     "data": {
      "application/vnd.jupyter.widget-view+json": {
       "model_id": "c7844c24136d453aac51eb07353e6ab1",
       "version_major": 2,
       "version_minor": 0
      },
      "text/plain": [
       "  0%|          | 0/35 [00:00<?, ?it/s]"
      ]
     },
     "metadata": {},
     "output_type": "display_data"
    }
   ],
   "source": [
    "targets = []\n",
    "data = []\n",
    "ids = series.series_id.unique()\n",
    "\n",
    "enmo_dfs = pd.DataFrame()\n",
    "\n",
    "for j, viz_id in tqdm(enumerate(ids), total=len(ids)):\n",
    "    viz_targets = []\n",
    "    viz_events = events[events.series_id == viz_id]\n",
    "    viz_series = series.loc[(series.series_id==viz_id)].copy().reset_index()\n",
    "    viz_series['dt'] = pd.to_datetime(viz_series.timestamp,format = '%Y-%m-%dT%H:%M:%S%z').astype(\"datetime64[ns, UTC-04:00]\")\n",
    "    viz_series['hour'] = viz_series['dt'].dt.hour\n",
    "\n",
    "    check = 0\n",
    "    for i in range(len(viz_events)-1):\n",
    "        if viz_events.iloc[i].event =='onset' and viz_events.iloc[i+1].event =='wakeup' and viz_events.iloc[i].night==viz_events.iloc[i+1].night:\n",
    "            start,end = viz_events.timestamp.iloc[i],viz_events.timestamp.iloc[i+1]\n",
    "\n",
    "            start_id = viz_series.loc[viz_series.timestamp ==start].index.values[0]\n",
    "            end_id = viz_series.loc[viz_series.timestamp ==end].index.values[0]\n",
    "            viz_targets.append((start_id,end_id))\n",
    "            check+=1\n",
    "\n",
    "    target_guassian = np.zeros((len(viz_series),2))\n",
    "\n",
    "    for s,e in viz_targets:\n",
    "        st1,st2 = max(0,s-SIGMA//2),s+SIGMA//2+1\n",
    "        label_s = np.zeros(st2-st1)\n",
    "        label_s[s-st1] = 1 \n",
    "        ed1,ed2 = e-SIGMA//2,min(len(viz_series),e+SIGMA//2+1)\n",
    "        label_e = np.zeros(ed2-ed1)\n",
    "        label_e[e-ed1] = 1\n",
    "        target_guassian[st1:st2,0] = gaussian_label(label_s, offset, sigma)\n",
    "        target_guassian[ed1:ed2,1] = gaussian_label(label_e, offset, sigma)\n",
    "\n",
    "    viz_series['onset'] = target_guassian[:,0]\n",
    "    viz_series['wakeup'] = target_guassian[:,1]\n",
    "\n",
    "    new_df = viz_series[['step', 'anglez', 'enmo', 'hour', 'onset', 'wakeup']]\n",
    "    new_df.to_csv(f'{out_dir}/{viz_id}.csv', index=False)\n",
    "\n",
    "    enmo_dfs = pd.concat([enmo_dfs, new_df] ,axis=0)"
   ]
  },
  {
   "cell_type": "code",
   "execution_count": 9,
   "id": "131c9bc8",
   "metadata": {
    "execution": {
     "iopub.execute_input": "2023-11-12T06:07:36.522991Z",
     "iopub.status.busy": "2023-11-12T06:07:36.522684Z",
     "iopub.status.idle": "2023-11-12T06:07:36.865527Z",
     "shell.execute_reply": "2023-11-12T06:07:36.864529Z"
    },
    "papermill": {
     "duration": 0.350876,
     "end_time": "2023-11-12T06:07:36.867834",
     "exception": false,
     "start_time": "2023-11-12T06:07:36.516958",
     "status": "completed"
    },
    "tags": []
   },
   "outputs": [
    {
     "data": {
      "text/html": [
       "<div>\n",
       "<style scoped>\n",
       "    .dataframe tbody tr th:only-of-type {\n",
       "        vertical-align: middle;\n",
       "    }\n",
       "\n",
       "    .dataframe tbody tr th {\n",
       "        vertical-align: top;\n",
       "    }\n",
       "\n",
       "    .dataframe thead th {\n",
       "        text-align: right;\n",
       "    }\n",
       "</style>\n",
       "<table border=\"1\" class=\"dataframe\">\n",
       "  <thead>\n",
       "    <tr style=\"text-align: right;\">\n",
       "      <th></th>\n",
       "      <th>index</th>\n",
       "      <th>step</th>\n",
       "      <th>anglez</th>\n",
       "      <th>enmo</th>\n",
       "      <th>hour</th>\n",
       "      <th>onset</th>\n",
       "      <th>wakeup</th>\n",
       "    </tr>\n",
       "  </thead>\n",
       "  <tbody>\n",
       "    <tr>\n",
       "      <th>0</th>\n",
       "      <td>0</td>\n",
       "      <td>0</td>\n",
       "      <td>-30.845301</td>\n",
       "      <td>0.0447</td>\n",
       "      <td>10</td>\n",
       "      <td>0.0</td>\n",
       "      <td>0.0</td>\n",
       "    </tr>\n",
       "    <tr>\n",
       "      <th>1</th>\n",
       "      <td>1</td>\n",
       "      <td>1</td>\n",
       "      <td>-34.181801</td>\n",
       "      <td>0.0443</td>\n",
       "      <td>10</td>\n",
       "      <td>0.0</td>\n",
       "      <td>0.0</td>\n",
       "    </tr>\n",
       "    <tr>\n",
       "      <th>2</th>\n",
       "      <td>2</td>\n",
       "      <td>2</td>\n",
       "      <td>-33.877102</td>\n",
       "      <td>0.0483</td>\n",
       "      <td>10</td>\n",
       "      <td>0.0</td>\n",
       "      <td>0.0</td>\n",
       "    </tr>\n",
       "    <tr>\n",
       "      <th>3</th>\n",
       "      <td>3</td>\n",
       "      <td>3</td>\n",
       "      <td>-34.282101</td>\n",
       "      <td>0.0680</td>\n",
       "      <td>10</td>\n",
       "      <td>0.0</td>\n",
       "      <td>0.0</td>\n",
       "    </tr>\n",
       "    <tr>\n",
       "      <th>4</th>\n",
       "      <td>4</td>\n",
       "      <td>4</td>\n",
       "      <td>-34.385799</td>\n",
       "      <td>0.0768</td>\n",
       "      <td>10</td>\n",
       "      <td>0.0</td>\n",
       "      <td>0.0</td>\n",
       "    </tr>\n",
       "  </tbody>\n",
       "</table>\n",
       "</div>"
      ],
      "text/plain": [
       "   index  step     anglez    enmo  hour  onset  wakeup\n",
       "0      0     0 -30.845301  0.0447    10    0.0     0.0\n",
       "1      1     1 -34.181801  0.0443    10    0.0     0.0\n",
       "2      2     2 -33.877102  0.0483    10    0.0     0.0\n",
       "3      3     3 -34.282101  0.0680    10    0.0     0.0\n",
       "4      4     4 -34.385799  0.0768    10    0.0     0.0"
      ]
     },
     "execution_count": 9,
     "metadata": {},
     "output_type": "execute_result"
    }
   ],
   "source": [
    "enmo_dfs = enmo_dfs.reset_index()\n",
    "enmo_dfs.head()"
   ]
  },
  {
   "cell_type": "code",
   "execution_count": 10,
   "id": "775eea54",
   "metadata": {
    "execution": {
     "iopub.execute_input": "2023-11-12T06:07:36.879305Z",
     "iopub.status.busy": "2023-11-12T06:07:36.878994Z",
     "iopub.status.idle": "2023-11-12T06:07:36.983226Z",
     "shell.execute_reply": "2023-11-12T06:07:36.982381Z"
    },
    "papermill": {
     "duration": 0.112363,
     "end_time": "2023-11-12T06:07:36.985437",
     "exception": false,
     "start_time": "2023-11-12T06:07:36.873074",
     "status": "completed"
    },
    "tags": []
   },
   "outputs": [
    {
     "name": "stdout",
     "output_type": "stream",
     "text": [
      "mean:0.044043, std:0.113715\n"
     ]
    }
   ],
   "source": [
    "enmo_mean = enmo_dfs['enmo'].mean()\n",
    "np.save('enmo_mean.npy', enmo_mean)\n",
    "enmo_std = enmo_dfs['enmo'].std()\n",
    "np.save('enmo_std.npy', enmo_std)\n",
    "print(f'mean:{enmo_mean:.6f}, std:{enmo_std:.6f}')"
   ]
  },
  {
   "cell_type": "code",
   "execution_count": null,
   "id": "3981423e",
   "metadata": {
    "papermill": {
     "duration": 0.004735,
     "end_time": "2023-11-12T06:07:36.995047",
     "exception": false,
     "start_time": "2023-11-12T06:07:36.990312",
     "status": "completed"
    },
    "tags": []
   },
   "outputs": [],
   "source": []
  },
  {
   "cell_type": "code",
   "execution_count": null,
   "id": "35f6e9a0",
   "metadata": {
    "papermill": {
     "duration": 0.004381,
     "end_time": "2023-11-12T06:07:37.004171",
     "exception": false,
     "start_time": "2023-11-12T06:07:36.999790",
     "status": "completed"
    },
    "tags": []
   },
   "outputs": [],
   "source": []
  }
 ],
 "metadata": {
  "kernelspec": {
   "display_name": "Python 3",
   "language": "python",
   "name": "python3"
  },
  "language_info": {
   "codemirror_mode": {
    "name": "ipython",
    "version": 3
   },
   "file_extension": ".py",
   "mimetype": "text/x-python",
   "name": "python",
   "nbconvert_exporter": "python",
   "pygments_lexer": "ipython3",
   "version": "3.10.12"
  },
  "papermill": {
   "default_parameters": {},
   "duration": 490.292161,
   "end_time": "2023-11-12T06:07:38.832942",
   "environment_variables": {},
   "exception": null,
   "input_path": "__notebook__.ipynb",
   "output_path": "__notebook__.ipynb",
   "parameters": {},
   "start_time": "2023-11-12T05:59:28.540781",
   "version": "2.4.0"
  },
  "widgets": {
   "application/vnd.jupyter.widget-state+json": {
    "state": {
     "13701d871ee14707b9ad8cf38acf4f4d": {
      "model_module": "@jupyter-widgets/controls",
      "model_module_version": "1.5.0",
      "model_name": "HTMLModel",
      "state": {
       "_dom_classes": [],
       "_model_module": "@jupyter-widgets/controls",
       "_model_module_version": "1.5.0",
       "_model_name": "HTMLModel",
       "_view_count": null,
       "_view_module": "@jupyter-widgets/controls",
       "_view_module_version": "1.5.0",
       "_view_name": "HTMLView",
       "description": "",
       "description_tooltip": null,
       "layout": "IPY_MODEL_637e40ab721f4499b600b55b46d92a6f",
       "placeholder": "​",
       "style": "IPY_MODEL_f1ae39c4523346e99368151c430ece91",
       "value": " 35/35 [07:45&lt;00:00, 12.41s/it]"
      }
     },
     "2ef3b34541ed488b914d7e241f3ab85f": {
      "model_module": "@jupyter-widgets/base",
      "model_module_version": "1.2.0",
      "model_name": "LayoutModel",
      "state": {
       "_model_module": "@jupyter-widgets/base",
       "_model_module_version": "1.2.0",
       "_model_name": "LayoutModel",
       "_view_count": null,
       "_view_module": "@jupyter-widgets/base",
       "_view_module_version": "1.2.0",
       "_view_name": "LayoutView",
       "align_content": null,
       "align_items": null,
       "align_self": null,
       "border": null,
       "bottom": null,
       "display": null,
       "flex": null,
       "flex_flow": null,
       "grid_area": null,
       "grid_auto_columns": null,
       "grid_auto_flow": null,
       "grid_auto_rows": null,
       "grid_column": null,
       "grid_gap": null,
       "grid_row": null,
       "grid_template_areas": null,
       "grid_template_columns": null,
       "grid_template_rows": null,
       "height": null,
       "justify_content": null,
       "justify_items": null,
       "left": null,
       "margin": null,
       "max_height": null,
       "max_width": null,
       "min_height": null,
       "min_width": null,
       "object_fit": null,
       "object_position": null,
       "order": null,
       "overflow": null,
       "overflow_x": null,
       "overflow_y": null,
       "padding": null,
       "right": null,
       "top": null,
       "visibility": null,
       "width": null
      }
     },
     "4e4fe8a0e9ee42cf87df007e6b13d718": {
      "model_module": "@jupyter-widgets/controls",
      "model_module_version": "1.5.0",
      "model_name": "FloatProgressModel",
      "state": {
       "_dom_classes": [],
       "_model_module": "@jupyter-widgets/controls",
       "_model_module_version": "1.5.0",
       "_model_name": "FloatProgressModel",
       "_view_count": null,
       "_view_module": "@jupyter-widgets/controls",
       "_view_module_version": "1.5.0",
       "_view_name": "ProgressView",
       "bar_style": "success",
       "description": "",
       "description_tooltip": null,
       "layout": "IPY_MODEL_2ef3b34541ed488b914d7e241f3ab85f",
       "max": 35.0,
       "min": 0.0,
       "orientation": "horizontal",
       "style": "IPY_MODEL_def9bb834fb449358da76300efca82de",
       "value": 35.0
      }
     },
     "637e40ab721f4499b600b55b46d92a6f": {
      "model_module": "@jupyter-widgets/base",
      "model_module_version": "1.2.0",
      "model_name": "LayoutModel",
      "state": {
       "_model_module": "@jupyter-widgets/base",
       "_model_module_version": "1.2.0",
       "_model_name": "LayoutModel",
       "_view_count": null,
       "_view_module": "@jupyter-widgets/base",
       "_view_module_version": "1.2.0",
       "_view_name": "LayoutView",
       "align_content": null,
       "align_items": null,
       "align_self": null,
       "border": null,
       "bottom": null,
       "display": null,
       "flex": null,
       "flex_flow": null,
       "grid_area": null,
       "grid_auto_columns": null,
       "grid_auto_flow": null,
       "grid_auto_rows": null,
       "grid_column": null,
       "grid_gap": null,
       "grid_row": null,
       "grid_template_areas": null,
       "grid_template_columns": null,
       "grid_template_rows": null,
       "height": null,
       "justify_content": null,
       "justify_items": null,
       "left": null,
       "margin": null,
       "max_height": null,
       "max_width": null,
       "min_height": null,
       "min_width": null,
       "object_fit": null,
       "object_position": null,
       "order": null,
       "overflow": null,
       "overflow_x": null,
       "overflow_y": null,
       "padding": null,
       "right": null,
       "top": null,
       "visibility": null,
       "width": null
      }
     },
     "6c6bc98f65764ca7a485df5ded80f12b": {
      "model_module": "@jupyter-widgets/controls",
      "model_module_version": "1.5.0",
      "model_name": "DescriptionStyleModel",
      "state": {
       "_model_module": "@jupyter-widgets/controls",
       "_model_module_version": "1.5.0",
       "_model_name": "DescriptionStyleModel",
       "_view_count": null,
       "_view_module": "@jupyter-widgets/base",
       "_view_module_version": "1.2.0",
       "_view_name": "StyleView",
       "description_width": ""
      }
     },
     "83984ee41abf4d9ba1d71b711f3143e2": {
      "model_module": "@jupyter-widgets/base",
      "model_module_version": "1.2.0",
      "model_name": "LayoutModel",
      "state": {
       "_model_module": "@jupyter-widgets/base",
       "_model_module_version": "1.2.0",
       "_model_name": "LayoutModel",
       "_view_count": null,
       "_view_module": "@jupyter-widgets/base",
       "_view_module_version": "1.2.0",
       "_view_name": "LayoutView",
       "align_content": null,
       "align_items": null,
       "align_self": null,
       "border": null,
       "bottom": null,
       "display": null,
       "flex": null,
       "flex_flow": null,
       "grid_area": null,
       "grid_auto_columns": null,
       "grid_auto_flow": null,
       "grid_auto_rows": null,
       "grid_column": null,
       "grid_gap": null,
       "grid_row": null,
       "grid_template_areas": null,
       "grid_template_columns": null,
       "grid_template_rows": null,
       "height": null,
       "justify_content": null,
       "justify_items": null,
       "left": null,
       "margin": null,
       "max_height": null,
       "max_width": null,
       "min_height": null,
       "min_width": null,
       "object_fit": null,
       "object_position": null,
       "order": null,
       "overflow": null,
       "overflow_x": null,
       "overflow_y": null,
       "padding": null,
       "right": null,
       "top": null,
       "visibility": null,
       "width": null
      }
     },
     "9cdf1f2886194095a1374b031e7d72f1": {
      "model_module": "@jupyter-widgets/controls",
      "model_module_version": "1.5.0",
      "model_name": "HTMLModel",
      "state": {
       "_dom_classes": [],
       "_model_module": "@jupyter-widgets/controls",
       "_model_module_version": "1.5.0",
       "_model_name": "HTMLModel",
       "_view_count": null,
       "_view_module": "@jupyter-widgets/controls",
       "_view_module_version": "1.5.0",
       "_view_name": "HTMLView",
       "description": "",
       "description_tooltip": null,
       "layout": "IPY_MODEL_83984ee41abf4d9ba1d71b711f3143e2",
       "placeholder": "​",
       "style": "IPY_MODEL_6c6bc98f65764ca7a485df5ded80f12b",
       "value": "100%"
      }
     },
     "bc8413d6748c49f9a982923139a4aa64": {
      "model_module": "@jupyter-widgets/base",
      "model_module_version": "1.2.0",
      "model_name": "LayoutModel",
      "state": {
       "_model_module": "@jupyter-widgets/base",
       "_model_module_version": "1.2.0",
       "_model_name": "LayoutModel",
       "_view_count": null,
       "_view_module": "@jupyter-widgets/base",
       "_view_module_version": "1.2.0",
       "_view_name": "LayoutView",
       "align_content": null,
       "align_items": null,
       "align_self": null,
       "border": null,
       "bottom": null,
       "display": null,
       "flex": null,
       "flex_flow": null,
       "grid_area": null,
       "grid_auto_columns": null,
       "grid_auto_flow": null,
       "grid_auto_rows": null,
       "grid_column": null,
       "grid_gap": null,
       "grid_row": null,
       "grid_template_areas": null,
       "grid_template_columns": null,
       "grid_template_rows": null,
       "height": null,
       "justify_content": null,
       "justify_items": null,
       "left": null,
       "margin": null,
       "max_height": null,
       "max_width": null,
       "min_height": null,
       "min_width": null,
       "object_fit": null,
       "object_position": null,
       "order": null,
       "overflow": null,
       "overflow_x": null,
       "overflow_y": null,
       "padding": null,
       "right": null,
       "top": null,
       "visibility": null,
       "width": null
      }
     },
     "c7844c24136d453aac51eb07353e6ab1": {
      "model_module": "@jupyter-widgets/controls",
      "model_module_version": "1.5.0",
      "model_name": "HBoxModel",
      "state": {
       "_dom_classes": [],
       "_model_module": "@jupyter-widgets/controls",
       "_model_module_version": "1.5.0",
       "_model_name": "HBoxModel",
       "_view_count": null,
       "_view_module": "@jupyter-widgets/controls",
       "_view_module_version": "1.5.0",
       "_view_name": "HBoxView",
       "box_style": "",
       "children": [
        "IPY_MODEL_9cdf1f2886194095a1374b031e7d72f1",
        "IPY_MODEL_4e4fe8a0e9ee42cf87df007e6b13d718",
        "IPY_MODEL_13701d871ee14707b9ad8cf38acf4f4d"
       ],
       "layout": "IPY_MODEL_bc8413d6748c49f9a982923139a4aa64"
      }
     },
     "def9bb834fb449358da76300efca82de": {
      "model_module": "@jupyter-widgets/controls",
      "model_module_version": "1.5.0",
      "model_name": "ProgressStyleModel",
      "state": {
       "_model_module": "@jupyter-widgets/controls",
       "_model_module_version": "1.5.0",
       "_model_name": "ProgressStyleModel",
       "_view_count": null,
       "_view_module": "@jupyter-widgets/base",
       "_view_module_version": "1.2.0",
       "_view_name": "StyleView",
       "bar_color": null,
       "description_width": ""
      }
     },
     "f1ae39c4523346e99368151c430ece91": {
      "model_module": "@jupyter-widgets/controls",
      "model_module_version": "1.5.0",
      "model_name": "DescriptionStyleModel",
      "state": {
       "_model_module": "@jupyter-widgets/controls",
       "_model_module_version": "1.5.0",
       "_model_name": "DescriptionStyleModel",
       "_view_count": null,
       "_view_module": "@jupyter-widgets/base",
       "_view_module_version": "1.2.0",
       "_view_name": "StyleView",
       "description_width": ""
      }
     }
    },
    "version_major": 2,
    "version_minor": 0
   }
  }
 },
 "nbformat": 4,
 "nbformat_minor": 5
}
